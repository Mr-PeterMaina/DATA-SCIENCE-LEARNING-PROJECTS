{
 "cells": [
  {
   "cell_type": "markdown",
   "metadata": {},
   "source": [
    "> Data cleaning and preprocessing. \n",
    "* Handling missing values, converting categorical variables into numeric variables, scaling/normalizing the data, and handling any outliers or anomalies in the data. In addition, I'll want to address the class imbalance issue by either oversampling the minority class (loans that are not fully paid) or undersampling the majority class (loans that are fully paid).\n",
    "> Exploratory data analysis (EDA). \n",
    "* Exploring the dataset to gain insights into the data, such as distributions of variables, correlations between variables, and identifying any patterns in the data.\n",
    "> Feature engineering. \n",
    "* Creating new features or transforming existing features to improve the predictive power of the model. \n",
    "> Model selection. \n",
    "* Try several models, such as decision trees, random forests, logistic regression, or support vector machines (SVM). \n",
    "Model training and evaluation. Training the selected model on the data and evaluating its performance using various metrics such as accuracy, precision, recall, and F1 score. \n",
    "> Hyperparameter tuning. \n",
    "* Fine-tuning the hyperparameters of the selected model to improve its performance. \n",
    "> Creating the web app using Gradio. \n",
    "* Once you have selected the best model, you can create a web app using Gradio. \n",
    "> Deploying the web app on Spaces. \n",
    "* Once you have created the web app using Gradio, to deploy it on Spaces. \n",
    "> Testing the web app. \n",
    "* Test to make sure it is working as expected."
   ]
  },
  {
   "cell_type": "markdown",
   "metadata": {},
   "source": [
    "## I) EXPLANATORY DATA ANALYSIS"
   ]
  },
  {
   "cell_type": "code",
   "execution_count": 17,
   "metadata": {},
   "outputs": [],
   "source": [
    "# Import Libraries\n",
    "import pandas as pd\n",
    "import matplotlib.pyplot as plt\n",
    "import seaborn as sns"
   ]
  },
  {
   "cell_type": "code",
   "execution_count": 18,
   "metadata": {},
   "outputs": [
    {
     "data": {
      "text/html": [
       "<div>\n",
       "<style scoped>\n",
       "    .dataframe tbody tr th:only-of-type {\n",
       "        vertical-align: middle;\n",
       "    }\n",
       "\n",
       "    .dataframe tbody tr th {\n",
       "        vertical-align: top;\n",
       "    }\n",
       "\n",
       "    .dataframe thead th {\n",
       "        text-align: right;\n",
       "    }\n",
       "</style>\n",
       "<table border=\"1\" class=\"dataframe\">\n",
       "  <thead>\n",
       "    <tr style=\"text-align: right;\">\n",
       "      <th></th>\n",
       "      <th>credit.policy</th>\n",
       "      <th>purpose</th>\n",
       "      <th>int.rate</th>\n",
       "      <th>installment</th>\n",
       "      <th>log.annual.inc</th>\n",
       "      <th>dti</th>\n",
       "      <th>fico</th>\n",
       "      <th>days.with.cr.line</th>\n",
       "      <th>revol.bal</th>\n",
       "      <th>revol.util</th>\n",
       "      <th>inq.last.6mths</th>\n",
       "      <th>delinq.2yrs</th>\n",
       "      <th>pub.rec</th>\n",
       "      <th>not.fully.paid</th>\n",
       "    </tr>\n",
       "  </thead>\n",
       "  <tbody>\n",
       "    <tr>\n",
       "      <th>0</th>\n",
       "      <td>1</td>\n",
       "      <td>debt_consolidation</td>\n",
       "      <td>0.1189</td>\n",
       "      <td>829.10</td>\n",
       "      <td>11.350407</td>\n",
       "      <td>19.48</td>\n",
       "      <td>737</td>\n",
       "      <td>5639.958333</td>\n",
       "      <td>28854</td>\n",
       "      <td>52.1</td>\n",
       "      <td>0</td>\n",
       "      <td>0</td>\n",
       "      <td>0</td>\n",
       "      <td>0</td>\n",
       "    </tr>\n",
       "    <tr>\n",
       "      <th>1</th>\n",
       "      <td>1</td>\n",
       "      <td>credit_card</td>\n",
       "      <td>0.1071</td>\n",
       "      <td>228.22</td>\n",
       "      <td>11.082143</td>\n",
       "      <td>14.29</td>\n",
       "      <td>707</td>\n",
       "      <td>2760.000000</td>\n",
       "      <td>33623</td>\n",
       "      <td>76.7</td>\n",
       "      <td>0</td>\n",
       "      <td>0</td>\n",
       "      <td>0</td>\n",
       "      <td>0</td>\n",
       "    </tr>\n",
       "    <tr>\n",
       "      <th>2</th>\n",
       "      <td>1</td>\n",
       "      <td>debt_consolidation</td>\n",
       "      <td>0.1357</td>\n",
       "      <td>366.86</td>\n",
       "      <td>10.373491</td>\n",
       "      <td>11.63</td>\n",
       "      <td>682</td>\n",
       "      <td>4710.000000</td>\n",
       "      <td>3511</td>\n",
       "      <td>25.6</td>\n",
       "      <td>1</td>\n",
       "      <td>0</td>\n",
       "      <td>0</td>\n",
       "      <td>0</td>\n",
       "    </tr>\n",
       "    <tr>\n",
       "      <th>3</th>\n",
       "      <td>1</td>\n",
       "      <td>debt_consolidation</td>\n",
       "      <td>0.1008</td>\n",
       "      <td>162.34</td>\n",
       "      <td>11.350407</td>\n",
       "      <td>8.10</td>\n",
       "      <td>712</td>\n",
       "      <td>2699.958333</td>\n",
       "      <td>33667</td>\n",
       "      <td>73.2</td>\n",
       "      <td>1</td>\n",
       "      <td>0</td>\n",
       "      <td>0</td>\n",
       "      <td>0</td>\n",
       "    </tr>\n",
       "    <tr>\n",
       "      <th>4</th>\n",
       "      <td>1</td>\n",
       "      <td>credit_card</td>\n",
       "      <td>0.1426</td>\n",
       "      <td>102.92</td>\n",
       "      <td>11.299732</td>\n",
       "      <td>14.97</td>\n",
       "      <td>667</td>\n",
       "      <td>4066.000000</td>\n",
       "      <td>4740</td>\n",
       "      <td>39.5</td>\n",
       "      <td>0</td>\n",
       "      <td>1</td>\n",
       "      <td>0</td>\n",
       "      <td>0</td>\n",
       "    </tr>\n",
       "  </tbody>\n",
       "</table>\n",
       "</div>"
      ],
      "text/plain": [
       "   credit.policy             purpose  int.rate  installment  log.annual.inc  \\\n",
       "0              1  debt_consolidation    0.1189       829.10       11.350407   \n",
       "1              1         credit_card    0.1071       228.22       11.082143   \n",
       "2              1  debt_consolidation    0.1357       366.86       10.373491   \n",
       "3              1  debt_consolidation    0.1008       162.34       11.350407   \n",
       "4              1         credit_card    0.1426       102.92       11.299732   \n",
       "\n",
       "     dti  fico  days.with.cr.line  revol.bal  revol.util  inq.last.6mths  \\\n",
       "0  19.48   737        5639.958333      28854        52.1               0   \n",
       "1  14.29   707        2760.000000      33623        76.7               0   \n",
       "2  11.63   682        4710.000000       3511        25.6               1   \n",
       "3   8.10   712        2699.958333      33667        73.2               1   \n",
       "4  14.97   667        4066.000000       4740        39.5               0   \n",
       "\n",
       "   delinq.2yrs  pub.rec  not.fully.paid  \n",
       "0            0        0               0  \n",
       "1            0        0               0  \n",
       "2            0        0               0  \n",
       "3            0        0               0  \n",
       "4            1        0               0  "
      ]
     },
     "execution_count": 18,
     "metadata": {},
     "output_type": "execute_result"
    }
   ],
   "source": [
    "loan_df = pd.read_csv(\"loan_data.csv\")\n",
    "loan_df.head()"
   ]
  },
  {
   "cell_type": "markdown",
   "metadata": {},
   "source": [
    "|NO|VARIABLE|EXPLANATION|\n",
    "|---| --- |--- |\n",
    "| 0 | Credit_policy | 1 if client meets underwriting criteria, 0 otherwise |\n",
    "| 1 | Purpose | Purpose of the loan |\n",
    "| 2 | Int_rate | Int rate of the loan {high rate for more risky borrower} |\n",
    "| 3 | Installments | Monthly installments owed by borrower if loan is funded |\n",
    "| 4 | log_annual_inc | Natural log of self reported annual income of the borrower |\n",
    "| 5 | dti | debt-to-income ratio of borrower {debt / annual income} |\n",
    "| 6 | fico | FICO credit score of borrower|\n",
    "| 7 | days_with_cr_line | nb of days borrower has had a credit line |\n",
    "| 8 | revol_bal | borrower's revolving balance {unpaid amt at end of credit card billing style} |\n",
    "| 9 | revol_util | borrower's revolving line utilization rate {Credit line amt used relative to ttl credit available} |\n",
    "| 10 | inq_last_6mnths | borrower's nb of inquiries by creditors in last 6 mnths |\n",
    "| 11 | delinq_2yrs | nb of times borrower had been 30+ days past due on payment in the past 2 years |\n",
    "| 12 | pub_rec | Borrower's nb of derogatory public records |\n",
    "| 13 | not_fully_paid | 1 if loan is not fully paid, 0 otherwise | "
   ]
  },
  {
   "cell_type": "code",
   "execution_count": 19,
   "metadata": {},
   "outputs": [
    {
     "name": "stdout",
     "output_type": "stream",
     "text": [
      "Number of rows and columns (9578, 14)\n",
      "       credit.policy     int.rate  installment  log.annual.inc          dti  \\\n",
      "count    9578.000000  9578.000000  9578.000000     9578.000000  9578.000000   \n",
      "mean        0.804970     0.122640   319.089413       10.932117    12.606679   \n",
      "std         0.396245     0.026847   207.071301        0.614813     6.883970   \n",
      "min         0.000000     0.060000    15.670000        7.547502     0.000000   \n",
      "25%         1.000000     0.103900   163.770000       10.558414     7.212500   \n",
      "50%         1.000000     0.122100   268.950000       10.928884    12.665000   \n",
      "75%         1.000000     0.140700   432.762500       11.291293    17.950000   \n",
      "max         1.000000     0.216400   940.140000       14.528354    29.960000   \n",
      "\n",
      "              fico  days.with.cr.line     revol.bal   revol.util  \\\n",
      "count  9578.000000        9578.000000  9.578000e+03  9578.000000   \n",
      "mean    710.846314        4560.767197  1.691396e+04    46.799236   \n",
      "std      37.970537        2496.930377  3.375619e+04    29.014417   \n",
      "min     612.000000         178.958333  0.000000e+00     0.000000   \n",
      "25%     682.000000        2820.000000  3.187000e+03    22.600000   \n",
      "50%     707.000000        4139.958333  8.596000e+03    46.300000   \n",
      "75%     737.000000        5730.000000  1.824950e+04    70.900000   \n",
      "max     827.000000       17639.958330  1.207359e+06   119.000000   \n",
      "\n",
      "       inq.last.6mths  delinq.2yrs      pub.rec  not.fully.paid  \n",
      "count     9578.000000  9578.000000  9578.000000     9578.000000  \n",
      "mean         1.577469     0.163708     0.062122        0.160054  \n",
      "std          2.200245     0.546215     0.262126        0.366676  \n",
      "min          0.000000     0.000000     0.000000        0.000000  \n",
      "25%          0.000000     0.000000     0.000000        0.000000  \n",
      "50%          1.000000     0.000000     0.000000        0.000000  \n",
      "75%          2.000000     0.000000     0.000000        0.000000  \n",
      "max         33.000000    13.000000     5.000000        1.000000  \n"
     ]
    }
   ],
   "source": [
    "# Display shape of date\n",
    "print(f\"Number of rows and columns {loan_df.shape}\")\n",
    "\n",
    "# Display summary statistics of df\n",
    "print(loan_df.describe())"
   ]
  },
  {
   "cell_type": "code",
   "execution_count": 20,
   "metadata": {},
   "outputs": [
    {
     "name": "stdout",
     "output_type": "stream",
     "text": [
      "credit.policy        0\n",
      "purpose              0\n",
      "int.rate             0\n",
      "installment          0\n",
      "log.annual.inc       0\n",
      "dti                  0\n",
      "fico                 0\n",
      "days.with.cr.line    0\n",
      "revol.bal            0\n",
      "revol.util           0\n",
      "inq.last.6mths       0\n",
      "delinq.2yrs          0\n",
      "pub.rec              0\n",
      "not.fully.paid       0\n",
      "dtype: int64\n"
     ]
    }
   ],
   "source": [
    "# Display missing values in each column\n",
    "print(loan_df.isnull().sum())"
   ]
  },
  {
   "cell_type": "code",
   "execution_count": 21,
   "metadata": {},
   "outputs": [
    {
     "data": {
      "image/png": "[encoded data removed]",
      "text/plain": [
       "<Figure size 432x288 with 1 Axes>"
      ]
     },
     "metadata": {
      "needs_background": "light"
     },
     "output_type": "display_data"
    }
   ],
   "source": [
    "# Visualize the Target variable\n",
    "sns.countplot(x= \"not.fully.paid\", data=loan_df)\n",
    "plt.show()"
   ]
  },
  {
   "cell_type": "code",
   "execution_count": 22,
   "metadata": {},
   "outputs": [
    {
     "data": {
      "text/plain": [
       "credit.policy          int64\n",
       "purpose               object\n",
       "int.rate             float64\n",
       "installment          float64\n",
       "log.annual.inc       float64\n",
       "dti                  float64\n",
       "fico                   int64\n",
       "days.with.cr.line    float64\n",
       "revol.bal              int64\n",
       "revol.util           float64\n",
       "inq.last.6mths         int64\n",
       "delinq.2yrs            int64\n",
       "pub.rec                int64\n",
       "not.fully.paid         int64\n",
       "dtype: object"
      ]
     },
     "execution_count": 22,
     "metadata": {},
     "output_type": "execute_result"
    }
   ],
   "source": [
    "loan_df.dtypes"
   ]
  },
  {
   "cell_type": "code",
   "execution_count": 23,
   "metadata": {},
   "outputs": [
    {
     "data": {
      "image/png": "[encoded data removed]",
      "text/plain": [
       "<Figure size 432x288 with 2 Axes>"
      ]
     },
     "metadata": {
      "needs_background": "light"
     },
     "output_type": "display_data"
    }
   ],
   "source": [
    "# Visualize the correlation btn variables\n",
    "corr = loan_df.select_dtypes(include=['number']).corr()\n",
    "sns.heatmap(corr, annot=True , cmap= \"coolwarm\")\n",
    "plt.show()"
   ]
  },
  {
   "cell_type": "code",
   "execution_count": 24,
   "metadata": {},
   "outputs": [
    {
     "data": {
      "image/png": "[encoded data removed]",
      "text/plain": [
       "<Figure size 432x288 with 1 Axes>"
      ]
     },
     "metadata": {
      "needs_background": "light"
     },
     "output_type": "display_data"
    }
   ],
   "source": [
    "# Understand Loan Purpose distribution\n",
    "sns.countplot(x = \"purpose\", data = loan_df )\n",
    "plt.xticks(rotation=55)\n",
    "plt.show()"
   ]
  },
  {
   "cell_type": "code",
   "execution_count": 25,
   "metadata": {},
   "outputs": [
    {
     "data": {
      "image/png": "[encoded data removed]",
      "text/plain": [
       "<Figure size 432x288 with 1 Axes>"
      ]
     },
     "metadata": {
      "needs_background": "light"
     },
     "output_type": "display_data"
    }
   ],
   "source": [
    "# Understanding distribution of interest rates by loan purpose\n",
    "sns.boxplot(x= \"purpose\", y= \"int.rate\", data=loan_df)\n",
    "plt.xticks(rotation=90)\n",
    "plt.show()"
   ]
  },
  {
   "cell_type": "markdown",
   "metadata": {},
   "source": [
    "## II) FEATURE ENGINEERING"
   ]
  },
  {
   "cell_type": "markdown",
   "metadata": {},
   "source": [
    "> Create 2 new features:\n",
    " * Installment to income ratio\n",
    " * credit history"
   ]
  },
  {
   "cell_type": "code",
   "execution_count": 26,
   "metadata": {},
   "outputs": [],
   "source": [
    "loan_df[\"installment_to_income_ratio\"] = (loan_df[\"installment\"] / loan_df[\"log.annual.inc\"])\n",
    "loan_df[\"credit_history\"] = (loan_df[\"delinq.2yrs\"] + loan_df[\"pub.rec\"]) / loan_df[\"fico\"]"
   ]
  },
  {
   "cell_type": "code",
   "execution_count": 27,
   "metadata": {},
   "outputs": [
    {
     "data": {
      "text/html": [
       "<div>\n",
       "<style scoped>\n",
       "    .dataframe tbody tr th:only-of-type {\n",
       "        vertical-align: middle;\n",
       "    }\n",
       "\n",
       "    .dataframe tbody tr th {\n",
       "        vertical-align: top;\n",
       "    }\n",
       "\n",
       "    .dataframe thead th {\n",
       "        text-align: right;\n",
       "    }\n",
       "</style>\n",
       "<table border=\"1\" class=\"dataframe\">\n",
       "  <thead>\n",
       "    <tr style=\"text-align: right;\">\n",
       "      <th></th>\n",
       "      <th>int.rate</th>\n",
       "      <th>installment</th>\n",
       "      <th>log.annual.inc</th>\n",
       "      <th>dti</th>\n",
       "      <th>fico</th>\n",
       "      <th>revol.bal</th>\n",
       "      <th>revol.util</th>\n",
       "      <th>inq.last.6mths</th>\n",
       "      <th>delinq.2yrs</th>\n",
       "      <th>pub.rec</th>\n",
       "      <th>not.fully.paid</th>\n",
       "      <th>installment_to_income_ratio</th>\n",
       "      <th>credit_history</th>\n",
       "    </tr>\n",
       "  </thead>\n",
       "  <tbody>\n",
       "    <tr>\n",
       "      <th>0</th>\n",
       "      <td>0.1189</td>\n",
       "      <td>829.10</td>\n",
       "      <td>11.350407</td>\n",
       "      <td>19.48</td>\n",
       "      <td>737</td>\n",
       "      <td>28854</td>\n",
       "      <td>52.1</td>\n",
       "      <td>0</td>\n",
       "      <td>0</td>\n",
       "      <td>0</td>\n",
       "      <td>0</td>\n",
       "      <td>73.045842</td>\n",
       "      <td>0.000000</td>\n",
       "    </tr>\n",
       "    <tr>\n",
       "      <th>1</th>\n",
       "      <td>0.1071</td>\n",
       "      <td>228.22</td>\n",
       "      <td>11.082143</td>\n",
       "      <td>14.29</td>\n",
       "      <td>707</td>\n",
       "      <td>33623</td>\n",
       "      <td>76.7</td>\n",
       "      <td>0</td>\n",
       "      <td>0</td>\n",
       "      <td>0</td>\n",
       "      <td>0</td>\n",
       "      <td>20.593491</td>\n",
       "      <td>0.000000</td>\n",
       "    </tr>\n",
       "    <tr>\n",
       "      <th>2</th>\n",
       "      <td>0.1357</td>\n",
       "      <td>366.86</td>\n",
       "      <td>10.373491</td>\n",
       "      <td>11.63</td>\n",
       "      <td>682</td>\n",
       "      <td>3511</td>\n",
       "      <td>25.6</td>\n",
       "      <td>1</td>\n",
       "      <td>0</td>\n",
       "      <td>0</td>\n",
       "      <td>0</td>\n",
       "      <td>35.365143</td>\n",
       "      <td>0.000000</td>\n",
       "    </tr>\n",
       "    <tr>\n",
       "      <th>3</th>\n",
       "      <td>0.1008</td>\n",
       "      <td>162.34</td>\n",
       "      <td>11.350407</td>\n",
       "      <td>8.10</td>\n",
       "      <td>712</td>\n",
       "      <td>33667</td>\n",
       "      <td>73.2</td>\n",
       "      <td>1</td>\n",
       "      <td>0</td>\n",
       "      <td>0</td>\n",
       "      <td>0</td>\n",
       "      <td>14.302571</td>\n",
       "      <td>0.000000</td>\n",
       "    </tr>\n",
       "    <tr>\n",
       "      <th>4</th>\n",
       "      <td>0.1426</td>\n",
       "      <td>102.92</td>\n",
       "      <td>11.299732</td>\n",
       "      <td>14.97</td>\n",
       "      <td>667</td>\n",
       "      <td>4740</td>\n",
       "      <td>39.5</td>\n",
       "      <td>0</td>\n",
       "      <td>1</td>\n",
       "      <td>0</td>\n",
       "      <td>0</td>\n",
       "      <td>9.108180</td>\n",
       "      <td>0.001499</td>\n",
       "    </tr>\n",
       "  </tbody>\n",
       "</table>\n",
       "</div>"
      ],
      "text/plain": [
       "   int.rate  installment  log.annual.inc    dti  fico  revol.bal  revol.util  \\\n",
       "0    0.1189       829.10       11.350407  19.48   737      28854        52.1   \n",
       "1    0.1071       228.22       11.082143  14.29   707      33623        76.7   \n",
       "2    0.1357       366.86       10.373491  11.63   682       3511        25.6   \n",
       "3    0.1008       162.34       11.350407   8.10   712      33667        73.2   \n",
       "4    0.1426       102.92       11.299732  14.97   667       4740        39.5   \n",
       "\n",
       "   inq.last.6mths  delinq.2yrs  pub.rec  not.fully.paid  \\\n",
       "0               0            0        0               0   \n",
       "1               0            0        0               0   \n",
       "2               1            0        0               0   \n",
       "3               1            0        0               0   \n",
       "4               0            1        0               0   \n",
       "\n",
       "   installment_to_income_ratio  credit_history  \n",
       "0                    73.045842        0.000000  \n",
       "1                    20.593491        0.000000  \n",
       "2                    35.365143        0.000000  \n",
       "3                    14.302571        0.000000  \n",
       "4                     9.108180        0.001499  "
      ]
     },
     "execution_count": 27,
     "metadata": {},
     "output_type": "execute_result"
    }
   ],
   "source": [
    "# Drop unnecessary columns \n",
    "loan_df = loan_df.drop(columns=[\"credit.policy\",\"days.with.cr.line\",\"purpose\"])\n",
    "loan_df.head()  "
   ]
  },
  {
   "cell_type": "code",
   "execution_count": 28,
   "metadata": {},
   "outputs": [],
   "source": [
    "# Convert categorical variables to numerical ones\n",
    "from sklearn.preprocessing import LabelEncoder, StandardScaler\n",
    "\n",
    "loan_df[\"not.fully.paid\"] = LabelEncoder().fit_transform(loan_df[\"not.fully.paid\"])"
   ]
  },
  {
   "cell_type": "code",
   "execution_count": 29,
   "metadata": {},
   "outputs": [],
   "source": [
    "# Scale the numerical features using standard scaler\n",
    "scaler = StandardScaler()\n",
    "numerical_cols = [\"int.rate\", \"installment\",\"log.annual.inc\",\"dti\",\"fico\",\"revol.bal\",\"revol.util\",\"inq.last.6mths\",\"delinq.2yrs\",\"pub.rec\",\"installment_to_income_ratio\",\"credit_history\"]\n",
    "loan_df[numerical_cols] = scaler.fit_transform(loan_df[numerical_cols])"
   ]
  },
  {
   "cell_type": "code",
   "execution_count": 30,
   "metadata": {},
   "outputs": [
    {
     "data": {
      "text/html": [
       "<div>\n",
       "<style scoped>\n",
       "    .dataframe tbody tr th:only-of-type {\n",
       "        vertical-align: middle;\n",
       "    }\n",
       "\n",
       "    .dataframe tbody tr th {\n",
       "        vertical-align: top;\n",
       "    }\n",
       "\n",
       "    .dataframe thead th {\n",
       "        text-align: right;\n",
       "    }\n",
       "</style>\n",
       "<table border=\"1\" class=\"dataframe\">\n",
       "  <thead>\n",
       "    <tr style=\"text-align: right;\">\n",
       "      <th></th>\n",
       "      <th>int.rate</th>\n",
       "      <th>installment</th>\n",
       "      <th>log.annual.inc</th>\n",
       "      <th>dti</th>\n",
       "      <th>fico</th>\n",
       "      <th>revol.bal</th>\n",
       "      <th>revol.util</th>\n",
       "      <th>inq.last.6mths</th>\n",
       "      <th>delinq.2yrs</th>\n",
       "      <th>pub.rec</th>\n",
       "      <th>not.fully.paid</th>\n",
       "      <th>installment_to_income_ratio</th>\n",
       "      <th>credit_history</th>\n",
       "    </tr>\n",
       "  </thead>\n",
       "  <tbody>\n",
       "    <tr>\n",
       "      <th>0</th>\n",
       "      <td>-0.139318</td>\n",
       "      <td>2.463099</td>\n",
       "      <td>0.680388</td>\n",
       "      <td>0.998505</td>\n",
       "      <td>0.688825</td>\n",
       "      <td>0.353732</td>\n",
       "      <td>0.182704</td>\n",
       "      <td>-0.716989</td>\n",
       "      <td>-0.299730</td>\n",
       "      <td>-0.237003</td>\n",
       "      <td>0</td>\n",
       "      <td>2.465358</td>\n",
       "      <td>-0.366662</td>\n",
       "    </tr>\n",
       "    <tr>\n",
       "      <th>1</th>\n",
       "      <td>-0.578868</td>\n",
       "      <td>-0.438854</td>\n",
       "      <td>0.244031</td>\n",
       "      <td>0.244540</td>\n",
       "      <td>-0.101303</td>\n",
       "      <td>0.495018</td>\n",
       "      <td>1.030602</td>\n",
       "      <td>-0.716989</td>\n",
       "      <td>-0.299730</td>\n",
       "      <td>-0.237003</td>\n",
       "      <td>0</td>\n",
       "      <td>-0.457185</td>\n",
       "      <td>-0.366662</td>\n",
       "    </tr>\n",
       "    <tr>\n",
       "      <th>2</th>\n",
       "      <td>0.486484</td>\n",
       "      <td>0.230708</td>\n",
       "      <td>-0.908659</td>\n",
       "      <td>-0.141885</td>\n",
       "      <td>-0.759742</td>\n",
       "      <td>-0.397073</td>\n",
       "      <td>-0.730683</td>\n",
       "      <td>-0.262470</td>\n",
       "      <td>-0.299730</td>\n",
       "      <td>-0.237003</td>\n",
       "      <td>0</td>\n",
       "      <td>0.365863</td>\n",
       "      <td>-0.366662</td>\n",
       "    </tr>\n",
       "    <tr>\n",
       "      <th>3</th>\n",
       "      <td>-0.813544</td>\n",
       "      <td>-0.757022</td>\n",
       "      <td>0.680388</td>\n",
       "      <td>-0.654697</td>\n",
       "      <td>0.030385</td>\n",
       "      <td>0.496321</td>\n",
       "      <td>0.909966</td>\n",
       "      <td>-0.262470</td>\n",
       "      <td>-0.299730</td>\n",
       "      <td>-0.237003</td>\n",
       "      <td>0</td>\n",
       "      <td>-0.807703</td>\n",
       "      <td>-0.366662</td>\n",
       "    </tr>\n",
       "    <tr>\n",
       "      <th>4</th>\n",
       "      <td>0.743509</td>\n",
       "      <td>-1.043992</td>\n",
       "      <td>0.597961</td>\n",
       "      <td>0.343326</td>\n",
       "      <td>-1.154806</td>\n",
       "      <td>-0.360663</td>\n",
       "      <td>-0.251586</td>\n",
       "      <td>-0.716989</td>\n",
       "      <td>1.531147</td>\n",
       "      <td>-0.237003</td>\n",
       "      <td>0</td>\n",
       "      <td>-1.097124</td>\n",
       "      <td>1.297273</td>\n",
       "    </tr>\n",
       "  </tbody>\n",
       "</table>\n",
       "</div>"
      ],
      "text/plain": [
       "   int.rate  installment  log.annual.inc       dti      fico  revol.bal  \\\n",
       "0 -0.139318     2.463099        0.680388  0.998505  0.688825   0.353732   \n",
       "1 -0.578868    -0.438854        0.244031  0.244540 -0.101303   0.495018   \n",
       "2  0.486484     0.230708       -0.908659 -0.141885 -0.759742  -0.397073   \n",
       "3 -0.813544    -0.757022        0.680388 -0.654697  0.030385   0.496321   \n",
       "4  0.743509    -1.043992        0.597961  0.343326 -1.154806  -0.360663   \n",
       "\n",
       "   revol.util  inq.last.6mths  delinq.2yrs   pub.rec  not.fully.paid  \\\n",
       "0    0.182704       -0.716989    -0.299730 -0.237003               0   \n",
       "1    1.030602       -0.716989    -0.299730 -0.237003               0   \n",
       "2   -0.730683       -0.262470    -0.299730 -0.237003               0   \n",
       "3    0.909966       -0.262470    -0.299730 -0.237003               0   \n",
       "4   -0.251586       -0.716989     1.531147 -0.237003               0   \n",
       "\n",
       "   installment_to_income_ratio  credit_history  \n",
       "0                     2.465358       -0.366662  \n",
       "1                    -0.457185       -0.366662  \n",
       "2                     0.365863       -0.366662  \n",
       "3                    -0.807703       -0.366662  \n",
       "4                    -1.097124        1.297273  "
      ]
     },
     "execution_count": 30,
     "metadata": {},
     "output_type": "execute_result"
    }
   ],
   "source": [
    "loan_df.head()"
   ]
  },
  {
   "cell_type": "code",
   "execution_count": 31,
   "metadata": {},
   "outputs": [
    {
     "data": {
      "text/plain": [
       "not.fully.paid\n",
       "0    8045\n",
       "1    8045\n",
       "Name: count, dtype: int64"
      ]
     },
     "execution_count": 31,
     "metadata": {},
     "output_type": "execute_result"
    }
   ],
   "source": [
    "# Handling class imbalance using imblearn's Oversampling method\n",
    "from imblearn.over_sampling import SMOTE\n",
    "\n",
    "sm = SMOTE(random_state=42)\n",
    "\n",
    "X = loan_df.drop(\"not.fully.paid\", axis=1)\n",
    "y = loan_df[\"not.fully.paid\"]\n",
    "\n",
    "X_resampled, y_resampled = sm.fit_resample(X,y)\n",
    "\n",
    "loan_df = pd.concat([X_resampled, y_resampled], axis=1)\n",
    "loan_df[\"not.fully.paid\"].value_counts()"
   ]
  },
  {
   "cell_type": "markdown",
   "metadata": {},
   "source": [
    "### III) MODEL SELECTION"
   ]
  },
  {
   "cell_type": "code",
   "execution_count": 32,
   "metadata": {},
   "outputs": [],
   "source": [
    "from sklearn.model_selection import train_test_split\n",
    "from sklearn.tree import DecisionTreeClassifier\n",
    "from sklearn.ensemble import RandomForestClassifier\n",
    "from sklearn.linear_model import LogisticRegression\n",
    "from sklearn.svm import SVC\n",
    "\n",
    "# Split dataset into training & testing sets\n",
    "X = loan_df.drop(\"not.fully.paid\", axis=1)\n",
    "y = loan_df[\"not.fully.paid\"]\n",
    "\n",
    "X_train, X_test, y_train, y_test = train_test_split(X,y, test_size=0.3, random_state=42)"
   ]
  },
  {
   "cell_type": "code",
   "execution_count": 33,
   "metadata": {},
   "outputs": [
    {
     "name": "stdout",
     "output_type": "stream",
     "text": [
      "Decision Tree Classifier Accuracy: 81.21%\n",
      "Random Forest Classifier Accuracy: 89.14%\n",
      "Logistic Regression Classifier Accuracy: 61.32%\n",
      "Support Vector Machine Classifier Accuracy: 66.54%\n"
     ]
    }
   ],
   "source": [
    "# Fit and Evaluate Decision Tree Classifier\n",
    "dt = DecisionTreeClassifier(random_state=42)\n",
    "dt.fit(X_train, y_train)\n",
    "dt_score = dt.score(X_test,y_test)\n",
    "print(\"Decision Tree Classifier Accuracy: {:.2f}%\".format(dt_score*100))\n",
    "\n",
    "# Fit and Evaluate Random Forest Classifier\n",
    "rf = RandomForestClassifier(random_state=42)\n",
    "rf.fit(X_train, y_train)\n",
    "rf_score = rf.score(X_test, y_test)\n",
    "print(\"Random Forest Classifier Accuracy: {:.2f}%\".format(rf_score*100))\n",
    "\n",
    "# Fit and Evaluate Logistic Regression Classifier\n",
    "lr = LogisticRegression(random_state=42)\n",
    "lr.fit(X_train, y_train)\n",
    "lr_score = lr.score(X_test, y_test)\n",
    "print(\"Logistic Regression Classifier Accuracy: {:.2f}%\".format(lr_score*100))\n",
    "\n",
    "# Fit and Evaluate Support Vector Machine Classifier\n",
    "svm = SVC(random_state=42)\n",
    "svm.fit(X_train, y_train)\n",
    "svm_score = svm.score(X_test, y_test)\n",
    "print(\"Support Vector Machine Classifier Accuracy: {:.2f}%\".format(svm_score*100) )"
   ]
  },
  {
   "cell_type": "markdown",
   "metadata": {},
   "source": [
    "## IV) HYPERPARAMETER TUNING"
   ]
  },
  {
   "cell_type": "markdown",
   "metadata": {},
   "source": [
    "> Random Forest Classifier has highest accuracy. We'll select it."
   ]
  },
  {
   "cell_type": "code",
   "execution_count": 34,
   "metadata": {},
   "outputs": [
    {
     "name": "stdout",
     "output_type": "stream",
     "text": [
      "Random Forest Classifier Evaluation Results:\n",
      "Accuracy: 88.94%\n",
      "Precision: 89.02%\n",
      "Recall: 88.50%\n",
      "F1 Score: 88.76%\n",
      "Best Hyperparameters: {'max_depth': 30, 'min_samples_leaf': 1, 'min_samples_split': 2, 'n_estimators': 300}\n"
     ]
    }
   ],
   "source": [
    "from sklearn.model_selection import GridSearchCV\n",
    "from sklearn.metrics import accuracy_score, precision_score, recall_score, f1_score\n",
    "\n",
    "# Define the parameter grid for hyperparameter tuning\n",
    "param_grid = {\n",
    "    \"n_estimators\": [100,200,300],\n",
    "    \"max_depth\": [10,20,30],\n",
    "    \"min_samples_split\": [2,5,10],\n",
    "    \"min_samples_leaf\": [1,2,4]\n",
    "}\n",
    "\n",
    "# Perform grid search with cross-validation to find the best hyperparameters\n",
    "grid_search = GridSearchCV(rf, param_grid, cv=3,scoring=\"f1\", n_jobs=-1)\n",
    "grid_search.fit(X_train, y_train)\n",
    "\n",
    "# Get the best model and its hyperparameters\n",
    "best_model = grid_search.best_estimator_\n",
    "best_params = grid_search.best_params_\n",
    "\n",
    "# Evaluate the best model on the testing set\n",
    "y_pred = best_model.predict(X_test)\n",
    "accuracy = accuracy_score(y_test, y_pred)\n",
    "precision = precision_score(y_test, y_pred)\n",
    "recall = recall_score(y_test, y_pred)\n",
    "f1 = f1_score(y_test, y_pred)\n",
    "\n",
    "# Print the results\n",
    "print(\"Random Forest Classifier Evaluation Results:\")\n",
    "print(\"Accuracy: {:.2f}%\".format(accuracy * 100))\n",
    "print(\"Precision: {:.2f}%\".format(precision * 100))\n",
    "print(\"Recall: {:.2f}%\".format(recall * 100))\n",
    "print(\"F1 Score: {:.2f}%\".format(f1 * 100 ))\n",
    "print(\"Best Hyperparameters:\", best_params)"
   ]
  },
  {
   "cell_type": "code",
   "execution_count": 35,
   "metadata": {},
   "outputs": [
    {
     "data": {
      "text/plain": [
       "['Loan_Classifier.joblib']"
      ]
     },
     "execution_count": 35,
     "metadata": {},
     "output_type": "execute_result"
    }
   ],
   "source": [
    "import joblib\n",
    "\n",
    "# save best model\n",
    "joblib.dump(best_model, \"Loan_Classifier.joblib\")"
   ]
  },
  {
   "cell_type": "markdown",
   "metadata": {},
   "source": [
    "V) CREATE A WEB APP  \n",
    " ~ app_dropdown.py - uses gr.dropdown  \n",
    " ~ app_slider.py - uses gr.slider  \n"
   ]
  },
  {
   "cell_type": "code",
   "execution_count": 36,
   "metadata": {},
   "outputs": [
    {
     "data": {
      "text/plain": [
       "['std_scaler.bin']"
      ]
     },
     "execution_count": 36,
     "metadata": {},
     "output_type": "execute_result"
    }
   ],
   "source": [
    "# Save the scaler\n",
    "joblib.dump(scaler, \"std_scaler.bin\")"
   ]
  },
  {
   "cell_type": "code",
   "execution_count": null,
   "metadata": {},
   "outputs": [],
   "source": []
  }
 ],
 "metadata": {
  "kernelspec": {
   "display_name": "learn-env",
   "language": "python",
   "name": "python3"
  },
  "language_info": {
   "codemirror_mode": {
    "name": "ipython",
    "version": 3
   },
   "file_extension": ".py",
   "mimetype": "text/x-python",
   "name": "python",
   "nbconvert_exporter": "python",
   "pygments_lexer": "ipython3",
   "version": "3.8.5"
  }
 },
 "nbformat": 4,
 "nbformat_minor": 2
}
